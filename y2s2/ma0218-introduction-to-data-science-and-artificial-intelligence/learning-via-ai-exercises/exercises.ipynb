{
 "cells": [
  {
   "cell_type": "markdown",
   "id": "17795c49-90f4-4953-80ea-773f8b8ed98e",
   "metadata": {},
   "source": [
    "MA0218 Learning via AI Exercises\n",
    "================================\n",
    "\n",
    "**Author:** Hankertrix\n",
    "\n"
   ]
  },
  {
   "cell_type": "markdown",
   "id": "4a105076-34f4-4ec7-a4a0-dec840a89893",
   "metadata": {},
   "source": [
    "\n",
    "# Table of Contents\n",
    "\n",
    "\n",
    "\n",
    "Import the required libraries.\n",
    "\n"
   ]
  },
  {
   "cell_type": "code",
   "execution_count": 1,
   "id": "75faadda-7022-40f9-840c-3ed097ef3c6f",
   "metadata": {},
   "outputs": [],
   "source": [
    "import pandas as pd"
   ]
  },
  {
   "cell_type": "markdown",
   "id": "1039d884-9147-4bd1-98e2-dc4cac7bddcc",
   "metadata": {},
   "source": [
    "## Missing values in data set\n",
    "\n"
   ]
  },
  {
   "cell_type": "markdown",
   "id": "f5f7f9d4-df46-46cf-a746-b8f2e9be26a4",
   "metadata": {},
   "source": [
    "### How many missing data points are in the data set?\n",
    "\n"
   ]
  },
  {
   "cell_type": "markdown",
   "id": "1a2c6331-16b6-4585-ae4b-5f2ff7bdeb5b",
   "metadata": {},
   "source": [
    "Load the data set.\n",
    "\n"
   ]
  },
  {
   "cell_type": "code",
   "execution_count": 2,
   "id": "bd4c1e43-7d03-4909-9e5b-317786e55bfb",
   "metadata": {},
   "outputs": [
    {
     "name": "stdout",
     "output_type": "stream",
     "text": [
      "  Permit Number  Permit Type            Permit Type Definition  \\\n",
      "0  201505065519            4                      sign - erect   \n",
      "1  201604195146            4                      sign - erect   \n",
      "2  201605278609            3  additions alterations or repairs   \n",
      "3  201611072166            8            otc alterations permit   \n",
      "4  201611283529            6                       demolitions   \n",
      "\n",
      "  Permit Creation Date Block  Lot  Street Number Street Number Suffix  \\\n",
      "0           05/06/2015  0326  023            140                  NaN   \n",
      "1           04/19/2016  0306  007            440                  NaN   \n",
      "2           05/27/2016  0595  203           1647                  NaN   \n",
      "3           11/07/2016  0156  011           1230                  NaN   \n",
      "4           11/28/2016  0342  001            950                  NaN   \n",
      "\n",
      "  Street Name Street Suffix  ...  Existing Construction Type  \\\n",
      "0       Ellis            St  ...                         3.0   \n",
      "1       Geary            St  ...                         3.0   \n",
      "2     Pacific            Av  ...                         1.0   \n",
      "3     Pacific            Av  ...                         5.0   \n",
      "4      Market            St  ...                         3.0   \n",
      "\n",
      "  Existing Construction Type Description Proposed Construction Type  \\\n",
      "0                          constr type 3                        NaN   \n",
      "1                          constr type 3                        NaN   \n",
      "2                          constr type 1                        1.0   \n",
      "3                         wood frame (5)                        5.0   \n",
      "4                          constr type 3                        NaN   \n",
      "\n",
      "  Proposed Construction Type Description Site Permit Supervisor District  \\\n",
      "0                                    NaN         NaN                 3.0   \n",
      "1                                    NaN         NaN                 3.0   \n",
      "2                          constr type 1         NaN                 3.0   \n",
      "3                         wood frame (5)         NaN                 3.0   \n",
      "4                                    NaN         NaN                 6.0   \n",
      "\n",
      "  Neighborhoods - Analysis Boundaries  Zipcode  \\\n",
      "0                          Tenderloin  94102.0   \n",
      "1                          Tenderloin  94102.0   \n",
      "2                        Russian Hill  94109.0   \n",
      "3                            Nob Hill  94109.0   \n",
      "4                          Tenderloin  94102.0   \n",
      "\n",
      "                                    Location      Record ID  \n",
      "0  (37.785719256680785, -122.40852313194863)  1380611233945  \n",
      "1   (37.78733980600732, -122.41063199757738)  1420164406718  \n",
      "2    (37.7946573324287, -122.42232562979227)  1424856504716  \n",
      "3   (37.79595867909168, -122.41557405519474)  1443574295566  \n",
      "4   (37.78315261897309, -122.40950883997789)   144548169992  \n",
      "\n",
      "[5 rows x 43 columns]\n"
     ]
    },
    {
     "name": "stderr",
     "output_type": "stream",
     "text": [
      "/tmp/ipykernel_464366/4209880954.py:1: DtypeWarning: Columns (22,32) have mixed types. Specify dtype option on import or set low_memory=False.\n",
      "  data = pd.read_csv(\"./data/Building_Permits.csv\")\n"
     ]
    }
   ],
   "source": [
    "data = pd.read_csv(\"./data/Building_Permits.csv\")\n",
    "print(data.head())"
   ]
  },
  {
   "cell_type": "markdown",
   "id": "6a539a7b-1966-4260-906d-a701c3c34bb3",
   "metadata": {},
   "source": [
    "Print out the fields which have empty values.\n",
    "\n"
   ]
  },
  {
   "cell_type": "code",
   "execution_count": 3,
   "id": "7776ff32-7490-4a73-a0f0-e284a7bd22b9",
   "metadata": {},
   "outputs": [
    {
     "name": "stdout",
     "output_type": "stream",
     "text": [
      "   Permit Number  Permit Type  Permit Type Definition  Permit Creation Date  \\\n",
      "0          False        False                   False                 False   \n",
      "1          False        False                   False                 False   \n",
      "2          False        False                   False                 False   \n",
      "3          False        False                   False                 False   \n",
      "4          False        False                   False                 False   \n",
      "\n",
      "   Block    Lot  Street Number  Street Number Suffix  Street Name  \\\n",
      "0  False  False          False                  True        False   \n",
      "1  False  False          False                  True        False   \n",
      "2  False  False          False                  True        False   \n",
      "3  False  False          False                  True        False   \n",
      "4  False  False          False                  True        False   \n",
      "\n",
      "   Street Suffix  ...  Existing Construction Type  \\\n",
      "0          False  ...                       False   \n",
      "1          False  ...                       False   \n",
      "2          False  ...                       False   \n",
      "3          False  ...                       False   \n",
      "4          False  ...                       False   \n",
      "\n",
      "   Existing Construction Type Description  Proposed Construction Type  \\\n",
      "0                                   False                        True   \n",
      "1                                   False                        True   \n",
      "2                                   False                       False   \n",
      "3                                   False                       False   \n",
      "4                                   False                        True   \n",
      "\n",
      "   Proposed Construction Type Description  Site Permit  Supervisor District  \\\n",
      "0                                    True         True                False   \n",
      "1                                    True         True                False   \n",
      "2                                   False         True                False   \n",
      "3                                   False         True                False   \n",
      "4                                    True         True                False   \n",
      "\n",
      "   Neighborhoods - Analysis Boundaries  Zipcode  Location  Record ID  \n",
      "0                                False    False     False      False  \n",
      "1                                False    False     False      False  \n",
      "2                                False    False     False      False  \n",
      "3                                False    False     False      False  \n",
      "4                                False    False     False      False  \n",
      "\n",
      "[5 rows x 43 columns]\n"
     ]
    }
   ],
   "source": [
    "has_missing_data = data.isnull()\n",
    "print(has_missing_data.head())"
   ]
  },
  {
   "cell_type": "markdown",
   "id": "aaba86bf-f19d-40a8-a82d-ea886fb57070",
   "metadata": {},
   "source": [
    "Count the values in the data representing whether a value is missing or not.\n",
    "\n"
   ]
  },
  {
   "cell_type": "code",
   "execution_count": 4,
   "id": "9430ed3d-7ae8-4b2d-b58a-9c2e58f6f17d",
   "metadata": {},
   "outputs": [
    {
     "name": "stdout",
     "output_type": "stream",
     "text": [
      "number_of_missing_values = 2245941\n"
     ]
    }
   ],
   "source": [
    "number_of_missing_values = has_missing_data.values.sum()\n",
    "print(f\"{number_of_missing_values = :.0f}\")"
   ]
  },
  {
   "cell_type": "markdown",
   "id": "9963b3fe-7c3f-40b5-abc3-739c8b4d13a7",
   "metadata": {},
   "source": [
    "### If you removed all the rows with missing values, how many rows would remain?\n",
    "\n"
   ]
  },
  {
   "cell_type": "markdown",
   "id": "afee6b1a-cf88-4f3c-b8d0-14502438243e",
   "metadata": {},
   "source": [
    "Drop all rows which have at least a missing value.\n",
    "\n"
   ]
  },
  {
   "cell_type": "code",
   "execution_count": 5,
   "id": "72eba8dd-b00f-43e8-a4c1-11fb7ded8c1a",
   "metadata": {},
   "outputs": [
    {
     "name": "stdout",
     "output_type": "stream",
     "text": [
      "Number of remaining rows: 0\n"
     ]
    }
   ],
   "source": [
    "rows_without_missing_values = data.dropna(how=\"any\", axis=0)\n",
    "print(f\"Number of remaining rows: {len(rows_without_missing_values)}\")"
   ]
  },
  {
   "cell_type": "markdown",
   "id": "cef2487a-0252-4501-8126-cdd2d897ed54",
   "metadata": {},
   "source": [
    "### Create a new DataFrame with all columns that contain missing values removed\n",
    "\n"
   ]
  },
  {
   "cell_type": "markdown",
   "id": "d6236b4d-a6e8-445d-a202-17e164cfd6e6",
   "metadata": {},
   "source": [
    "Drop all columns that contain missing values.\n",
    "\n"
   ]
  },
  {
   "cell_type": "code",
   "execution_count": 6,
   "id": "502a660b-079c-473e-b002-800b2274a1ce",
   "metadata": {},
   "outputs": [
    {
     "name": "stdout",
     "output_type": "stream",
     "text": [
      "  Permit Number  Permit Type            Permit Type Definition  \\\n",
      "0  201505065519            4                      sign - erect   \n",
      "1  201604195146            4                      sign - erect   \n",
      "2  201605278609            3  additions alterations or repairs   \n",
      "3  201611072166            8            otc alterations permit   \n",
      "4  201611283529            6                       demolitions   \n",
      "\n",
      "  Permit Creation Date Block  Lot  Street Number Street Name Current Status  \\\n",
      "0           05/06/2015  0326  023            140       Ellis        expired   \n",
      "1           04/19/2016  0306  007            440       Geary         issued   \n",
      "2           05/27/2016  0595  203           1647     Pacific      withdrawn   \n",
      "3           11/07/2016  0156  011           1230     Pacific       complete   \n",
      "4           11/28/2016  0342  001            950      Market         issued   \n",
      "\n",
      "  Current Status Date  Filed Date      Record ID  \n",
      "0          12/21/2017  05/06/2015  1380611233945  \n",
      "1          08/03/2017  04/19/2016  1420164406718  \n",
      "2          09/26/2017  05/27/2016  1424856504716  \n",
      "3          07/24/2017  11/07/2016  1443574295566  \n",
      "4          12/01/2017  11/28/2016   144548169992  \n"
     ]
    }
   ],
   "source": [
    "columns_without_missing_values = pd.DataFrame(data.dropna(how=\"any\", axis=1))\n",
    "print(columns_without_missing_values.head())"
   ]
  },
  {
   "cell_type": "markdown",
   "id": "551f2c78-f774-4226-b58c-1b9b7febefe5",
   "metadata": {},
   "source": [
    "## Inconsistent data entry\n",
    "\n"
   ]
  },
  {
   "cell_type": "markdown",
   "id": "3b75dc37-7846-48c2-b5ac-03e78c9e4873",
   "metadata": {},
   "source": [
    "Load the data.\n",
    "\n"
   ]
  },
  {
   "cell_type": "code",
   "execution_count": 7,
   "id": "88e454d6-e904-4d35-af07-579bc098020e",
   "metadata": {},
   "outputs": [
    {
     "name": "stdout",
     "output_type": "stream",
     "text": [
      "   Unnamed: 0  S#         Teacher Name  \\\n",
      "0           2   3      Dr. Abdul Basit   \n",
      "1           4   5      Dr. Waheed Noor   \n",
      "2           5   6     Dr. Junaid Baber   \n",
      "3           6   7  Dr. Maheen Bakhtyar   \n",
      "4          24  25          Samina Azim   \n",
      "\n",
      "            University Currently Teaching             Department  \\\n",
      "0               University of Balochistan  Computer Science & IT   \n",
      "1               University of Balochistan  Computer Science & IT   \n",
      "2               University of Balochistan  Computer Science & IT   \n",
      "3               University of Balochistan  Computer Science & IT   \n",
      "4  Sardar Bahadur Khan Women's University       Computer Science   \n",
      "\n",
      "  Province University Located          Designation Terminal Degree  \\\n",
      "0                 Balochistan  Assistant Professor             PhD   \n",
      "1                 Balochistan  Assistant Professor             PhD   \n",
      "2                 Balochistan  Assistant Professor             PhD   \n",
      "3                 Balochistan  Assistant Professor             PhD   \n",
      "4                 Balochistan             Lecturer              BS   \n",
      "\n",
      "                                      Graduated from   Country    Year  \\\n",
      "0                      Asian Institute of Technology  Thailand     NaN   \n",
      "1                      Asian Institute of Technology  Thailand     NaN   \n",
      "2                      Asian Institute of Technology  Thailand     NaN   \n",
      "3                      Asian Institute of Technology  Thailand     NaN   \n",
      "4  Balochistan University of Information Technolo...  Pakistan  2005.0   \n",
      "\n",
      "           Area of Specialization/Research Interests Other Information  \n",
      "0                        Software Engineering & DBMS               NaN  \n",
      "1                                               DBMS               NaN  \n",
      "2          Information processing, Multimedia mining               NaN  \n",
      "3  NLP, Information Retrieval, Question Answering...               NaN  \n",
      "4                      VLSI Electronics DLD Database               NaN  \n"
     ]
    }
   ],
   "source": [
    "data = pd.read_csv(\"./data/pakistan_intellectual_capital.csv\")\n",
    "print(data.head())"
   ]
  },
  {
   "cell_type": "markdown",
   "id": "0e373df2-d0d3-4348-bf37-23a882672e53",
   "metadata": {},
   "source": [
    "### Retrieve all the unique values in the \"Country\" column. What inconsistencies do you notice? Pay attention to unnecessary white spaces as well.\n",
    "\n"
   ]
  },
  {
   "cell_type": "markdown",
   "id": "01247251-1037-4ec2-bbc3-18469cc8e2d3",
   "metadata": {},
   "source": [
    "Get all unique values in the country column.\n",
    "\n"
   ]
  },
  {
   "cell_type": "code",
   "execution_count": 8,
   "id": "2d01a435-4246-40f4-ae8b-fc0fa2e03558",
   "metadata": {},
   "outputs": [
    {
     "name": "stdout",
     "output_type": "stream",
     "text": [
      "['Thailand' 'Pakistan' 'germany' 'Austria' 'Australia' 'UK' 'China'\n",
      " 'France' 'USofA' 'SouthKorea' 'Malaysia' 'Sweden' 'Italy' 'Canada'\n",
      " 'Norway' 'Ireland' 'New Zealand' 'Urbana' 'Portugal' 'Russian Federation'\n",
      " 'USA' 'Finland' ' USA' 'Netherland' ' Germany' ' Sweden' ' New Zealand'\n",
      " 'Greece' 'Turkey' 'South Korea' 'Macau' 'Singapore' 'Spain' 'Japan'\n",
      " 'HongKong' 'Saudi Arabia' 'Mauritius' 'Scotland']\n"
     ]
    }
   ],
   "source": [
    "unique_countries = data[\"Country\"].unique()\n",
    "print(unique_countries)"
   ]
  },
  {
   "cell_type": "markdown",
   "id": "f94802b4-671d-4fc2-8255-64fe0dc5b36d",
   "metadata": {},
   "source": [
    "The country names have inconsistent capitalisation and spacing. Some are all in lower case, some have spaces between the words, some have extraneous whitespace.\n",
    "\n"
   ]
  },
  {
   "cell_type": "markdown",
   "id": "f9753323-f4b2-4810-8d75-3e319e68fc02",
   "metadata": {},
   "source": [
    "### Convert all country names to lowercase\n",
    "\n"
   ]
  },
  {
   "cell_type": "markdown",
   "id": "082ec154-db59-45bb-b07e-bfd876550853",
   "metadata": {},
   "source": [
    "Change all country names to lowercase.\n",
    "\n"
   ]
  },
  {
   "cell_type": "code",
   "execution_count": 9,
   "id": "4f1a1c11-0ca2-48fd-8328-b981a7e49d78",
   "metadata": {},
   "outputs": [
    {
     "name": "stdout",
     "output_type": "stream",
     "text": [
      "   Unnamed: 0  S#         Teacher Name  \\\n",
      "0           2   3      Dr. Abdul Basit   \n",
      "1           4   5      Dr. Waheed Noor   \n",
      "2           5   6     Dr. Junaid Baber   \n",
      "3           6   7  Dr. Maheen Bakhtyar   \n",
      "4          24  25          Samina Azim   \n",
      "\n",
      "            University Currently Teaching             Department  \\\n",
      "0               University of Balochistan  Computer Science & IT   \n",
      "1               University of Balochistan  Computer Science & IT   \n",
      "2               University of Balochistan  Computer Science & IT   \n",
      "3               University of Balochistan  Computer Science & IT   \n",
      "4  Sardar Bahadur Khan Women's University       Computer Science   \n",
      "\n",
      "  Province University Located          Designation Terminal Degree  \\\n",
      "0                 Balochistan  Assistant Professor             PhD   \n",
      "1                 Balochistan  Assistant Professor             PhD   \n",
      "2                 Balochistan  Assistant Professor             PhD   \n",
      "3                 Balochistan  Assistant Professor             PhD   \n",
      "4                 Balochistan             Lecturer              BS   \n",
      "\n",
      "                                      Graduated from   Country    Year  \\\n",
      "0                      Asian Institute of Technology  thailand     NaN   \n",
      "1                      Asian Institute of Technology  thailand     NaN   \n",
      "2                      Asian Institute of Technology  thailand     NaN   \n",
      "3                      Asian Institute of Technology  thailand     NaN   \n",
      "4  Balochistan University of Information Technolo...  pakistan  2005.0   \n",
      "\n",
      "           Area of Specialization/Research Interests Other Information  \n",
      "0                        Software Engineering & DBMS               NaN  \n",
      "1                                               DBMS               NaN  \n",
      "2          Information processing, Multimedia mining               NaN  \n",
      "3  NLP, Information Retrieval, Question Answering...               NaN  \n",
      "4                      VLSI Electronics DLD Database               NaN  \n"
     ]
    }
   ],
   "source": [
    "lowercased_data = data\n",
    "lowercased_data[\"Country\"] = data[\"Country\"].str.lower()\n",
    "print(lowercased_data.head())"
   ]
  },
  {
   "cell_type": "markdown",
   "id": "48d77d0e-aa9d-4cb6-b570-368cd8f03a7e",
   "metadata": {},
   "source": [
    "Print out the unique country names.\n",
    "\n"
   ]
  },
  {
   "cell_type": "code",
   "execution_count": 10,
   "id": "e440892b-019d-4d3d-b020-1db76170939c",
   "metadata": {},
   "outputs": [
    {
     "name": "stdout",
     "output_type": "stream",
     "text": [
      "['thailand' 'pakistan' 'germany' 'austria' 'australia' 'uk' 'china'\n",
      " 'france' 'usofa' 'southkorea' 'malaysia' 'sweden' 'italy' 'canada'\n",
      " 'norway' 'ireland' 'new zealand' 'urbana' 'portugal' 'russian federation'\n",
      " 'usa' 'finland' ' usa' 'netherland' ' germany' ' sweden' ' new zealand'\n",
      " 'greece' 'turkey' 'south korea' 'macau' 'singapore' 'spain' 'japan'\n",
      " 'hongkong' 'saudi arabia' 'mauritius' 'scotland']\n"
     ]
    }
   ],
   "source": [
    "print(lowercased_data[\"Country\"].unique())"
   ]
  },
  {
   "cell_type": "markdown",
   "id": "1e82cdbd-6c47-4e73-aed7-cd5e838658ba",
   "metadata": {},
   "source": [
    "### Remove any trailing or leading whitespace in the country names, such as \"USA\"\n",
    "\n"
   ]
  },
  {
   "cell_type": "markdown",
   "id": "b1192937-bc39-4d49-bcc1-69d346e92f0d",
   "metadata": {},
   "source": [
    "Remove all trailing and leading whitespace in the country names.\n",
    "\n"
   ]
  },
  {
   "cell_type": "code",
   "execution_count": 11,
   "id": "34528af7-ec64-401b-bda2-6a6182fbd80a",
   "metadata": {},
   "outputs": [
    {
     "name": "stdout",
     "output_type": "stream",
     "text": [
      "   Unnamed: 0  S#         Teacher Name  \\\n",
      "0           2   3      Dr. Abdul Basit   \n",
      "1           4   5      Dr. Waheed Noor   \n",
      "2           5   6     Dr. Junaid Baber   \n",
      "3           6   7  Dr. Maheen Bakhtyar   \n",
      "4          24  25          Samina Azim   \n",
      "\n",
      "            University Currently Teaching             Department  \\\n",
      "0               University of Balochistan  Computer Science & IT   \n",
      "1               University of Balochistan  Computer Science & IT   \n",
      "2               University of Balochistan  Computer Science & IT   \n",
      "3               University of Balochistan  Computer Science & IT   \n",
      "4  Sardar Bahadur Khan Women's University       Computer Science   \n",
      "\n",
      "  Province University Located          Designation Terminal Degree  \\\n",
      "0                 Balochistan  Assistant Professor             PhD   \n",
      "1                 Balochistan  Assistant Professor             PhD   \n",
      "2                 Balochistan  Assistant Professor             PhD   \n",
      "3                 Balochistan  Assistant Professor             PhD   \n",
      "4                 Balochistan             Lecturer              BS   \n",
      "\n",
      "                                      Graduated from   Country    Year  \\\n",
      "0                      Asian Institute of Technology  thailand     NaN   \n",
      "1                      Asian Institute of Technology  thailand     NaN   \n",
      "2                      Asian Institute of Technology  thailand     NaN   \n",
      "3                      Asian Institute of Technology  thailand     NaN   \n",
      "4  Balochistan University of Information Technolo...  pakistan  2005.0   \n",
      "\n",
      "           Area of Specialization/Research Interests Other Information  \n",
      "0                        Software Engineering & DBMS               NaN  \n",
      "1                                               DBMS               NaN  \n",
      "2          Information processing, Multimedia mining               NaN  \n",
      "3  NLP, Information Retrieval, Question Answering...               NaN  \n",
      "4                      VLSI Electronics DLD Database               NaN  \n"
     ]
    }
   ],
   "source": [
    "lowercased_data[\"Country\"] = lowercased_data[\"Country\"].str.strip()\n",
    "print(lowercased_data.head())"
   ]
  },
  {
   "cell_type": "markdown",
   "id": "1865359e-63c4-462d-b7ef-17d1623746b7",
   "metadata": {},
   "source": [
    "Print out the unique country names.\n",
    "\n"
   ]
  },
  {
   "cell_type": "code",
   "execution_count": 12,
   "id": "ec70e21d-d36b-4ac3-a13b-13df0bd40da6",
   "metadata": {},
   "outputs": [
    {
     "name": "stdout",
     "output_type": "stream",
     "text": [
      "['thailand' 'pakistan' 'germany' 'austria' 'australia' 'uk' 'china'\n",
      " 'france' 'usofa' 'southkorea' 'malaysia' 'sweden' 'italy' 'canada'\n",
      " 'norway' 'ireland' 'new zealand' 'urbana' 'portugal' 'russian federation'\n",
      " 'usa' 'finland' 'netherland' 'greece' 'turkey' 'south korea' 'macau'\n",
      " 'singapore' 'spain' 'japan' 'hongkong' 'saudi arabia' 'mauritius'\n",
      " 'scotland']\n"
     ]
    }
   ],
   "source": [
    "print(lowercased_data[\"Country\"].unique())"
   ]
  },
  {
   "cell_type": "markdown",
   "id": "d86a6c88-2f00-433b-ab89-8697702c289e",
   "metadata": {},
   "source": [
    "### 'southkorea' and 'south korea' should refer to the same entry. Standardize these entries to match the same country name.\n",
    "\n"
   ]
  },
  {
   "cell_type": "markdown",
   "id": "ecd3b954-1580-4c38-baaf-7e934342d790",
   "metadata": {},
   "source": [
    "Standardise the entries.\n",
    "\n"
   ]
  },
  {
   "cell_type": "code",
   "execution_count": 13,
   "id": "2c6a0a51-05ce-4386-b390-6b89dd8e1586",
   "metadata": {},
   "outputs": [
    {
     "name": "stdout",
     "output_type": "stream",
     "text": [
      "   Unnamed: 0  S#         Teacher Name  \\\n",
      "0           2   3      Dr. Abdul Basit   \n",
      "1           4   5      Dr. Waheed Noor   \n",
      "2           5   6     Dr. Junaid Baber   \n",
      "3           6   7  Dr. Maheen Bakhtyar   \n",
      "4          24  25          Samina Azim   \n",
      "\n",
      "            University Currently Teaching             Department  \\\n",
      "0               University of Balochistan  Computer Science & IT   \n",
      "1               University of Balochistan  Computer Science & IT   \n",
      "2               University of Balochistan  Computer Science & IT   \n",
      "3               University of Balochistan  Computer Science & IT   \n",
      "4  Sardar Bahadur Khan Women's University       Computer Science   \n",
      "\n",
      "  Province University Located          Designation Terminal Degree  \\\n",
      "0                 Balochistan  Assistant Professor             PhD   \n",
      "1                 Balochistan  Assistant Professor             PhD   \n",
      "2                 Balochistan  Assistant Professor             PhD   \n",
      "3                 Balochistan  Assistant Professor             PhD   \n",
      "4                 Balochistan             Lecturer              BS   \n",
      "\n",
      "                                      Graduated from   Country    Year  \\\n",
      "0                      Asian Institute of Technology  thailand     NaN   \n",
      "1                      Asian Institute of Technology  thailand     NaN   \n",
      "2                      Asian Institute of Technology  thailand     NaN   \n",
      "3                      Asian Institute of Technology  thailand     NaN   \n",
      "4  Balochistan University of Information Technolo...  pakistan  2005.0   \n",
      "\n",
      "           Area of Specialization/Research Interests Other Information  \n",
      "0                        Software Engineering & DBMS               NaN  \n",
      "1                                               DBMS               NaN  \n",
      "2          Information processing, Multimedia mining               NaN  \n",
      "3  NLP, Information Retrieval, Question Answering...               NaN  \n",
      "4                      VLSI Electronics DLD Database               NaN  \n"
     ]
    }
   ],
   "source": [
    "standardised_data = lowercased_data\n",
    "standardised_data[\"Country\"] = standardised_data[\"Country\"].str.replace(\" \", \"\")\n",
    "print(standardised_data.head())"
   ]
  },
  {
   "cell_type": "markdown",
   "id": "4e537642-6152-4f81-ab96-88aeb84b96a4",
   "metadata": {},
   "source": [
    "Print out the unique country names.\n",
    "\n"
   ]
  },
  {
   "cell_type": "code",
   "execution_count": 14,
   "id": "9fa1cf9c-9af0-4801-946a-9675ef2ff897",
   "metadata": {},
   "outputs": [
    {
     "name": "stdout",
     "output_type": "stream",
     "text": [
      "['thailand' 'pakistan' 'germany' 'austria' 'australia' 'uk' 'china'\n",
      " 'france' 'usofa' 'southkorea' 'malaysia' 'sweden' 'italy' 'canada'\n",
      " 'norway' 'ireland' 'newzealand' 'urbana' 'portugal' 'russianfederation'\n",
      " 'usa' 'finland' 'netherland' 'greece' 'turkey' 'macau' 'singapore'\n",
      " 'spain' 'japan' 'hongkong' 'saudiarabia' 'mauritius' 'scotland']\n"
     ]
    }
   ],
   "source": [
    "print(standardised_data[\"Country\"].unique())"
   ]
  },
  {
   "cell_type": "markdown",
   "id": "42c976a7-cb8b-48fc-bec0-a87ca95f842c",
   "metadata": {},
   "source": [
    "## Removing inconsistencies\n",
    "\n"
   ]
  },
  {
   "cell_type": "markdown",
   "id": "f9e4e475-1ae9-4aec-a5da-e34bf088c460",
   "metadata": {},
   "source": [
    "Load the data.\n",
    "\n"
   ]
  },
  {
   "cell_type": "code",
   "execution_count": 15,
   "id": "ba98b413-4df8-4af1-b9f9-20edb10bb95f",
   "metadata": {},
   "outputs": [
    {
     "name": "stdout",
     "output_type": "stream",
     "text": [
      "   #                   Name Type 1  Type 2  Total  HP Attack Defense  Sp. Atk  \\\n",
      "0  1              Bulbasaur  Grass  Poison    318  45     49  Monkey       65   \n",
      "1  2                Ivysaur  Grass  Poison    405  60     62      63       80   \n",
      "2  3               Venusaur  Grass  Poison    525  80     82      83      100   \n",
      "3  3  VenusaurMega Venusaur  Grass  Poison    625  80    100     123      122   \n",
      "4  4             Charmander   Fire     NaN    309  39     52      43       60   \n",
      "\n",
      "  Sp. Def   Speed  Generation Legendary  \n",
      "0      65      45           1     FALSE  \n",
      "1      80      60           1     FALSE  \n",
      "2     100      80           1     FALSE  \n",
      "3     120      80           1     FALSE  \n",
      "4      50  Monkey           1     FALSE  \n"
     ]
    }
   ],
   "source": [
    "data = pd.read_csv(\"./data/pokemonData_edited.csv\")\n",
    "print(data.head())"
   ]
  },
  {
   "cell_type": "markdown",
   "id": "46df5965-fabc-4496-94b6-87553e91a8bf",
   "metadata": {},
   "source": [
    "### Identify the continuous and categorical features in the dataset\n",
    "\n"
   ]
  },
  {
   "cell_type": "markdown",
   "id": "9559f137-e28a-4dfd-9877-4a7dfded01c0",
   "metadata": {},
   "source": [
    "The continuous features are:\n",
    "\n"
   ]
  },
  {
   "cell_type": "code",
   "execution_count": 16,
   "id": "69611b9c-9a9d-454e-aa03-2ed58d726ae7",
   "metadata": {},
   "outputs": [],
   "source": [
    "continuous_features = [\n",
    "    \"Total\",\n",
    "    \"HP\",\n",
    "    \"Attack\",\n",
    "    \"Defense\",\n",
    "    \"Sp. Atk\",\n",
    "    \"Sp. Def\",\n",
    "    \"Speed\",\n",
    "]"
   ]
  },
  {
   "cell_type": "markdown",
   "id": "dd84036d-1715-44cd-9836-fe4853ddae9b",
   "metadata": {},
   "source": [
    "The categorical features are:\n",
    "\n"
   ]
  },
  {
   "cell_type": "code",
   "execution_count": 17,
   "id": "ecf826ad-cb0c-43f4-b8ea-e6d700196c6a",
   "metadata": {},
   "outputs": [],
   "source": [
    "categorical_features = [\n",
    "    \"Type 1\",\n",
    "    \"Type 2\",\n",
    "    \"Generation\",\n",
    "    \"Legendary\",\n",
    "]"
   ]
  },
  {
   "cell_type": "markdown",
   "id": "011cdd3c-b2a7-438a-9692-8d1fe815e8bc",
   "metadata": {},
   "source": [
    "### Remove the entries that do not belong in certain columns of the dataset\n",
    "\n"
   ]
  },
  {
   "cell_type": "markdown",
   "id": "2563a262-b0f6-4c44-b6e0-481c9d765089",
   "metadata": {},
   "source": [
    "Create the dictionary of types for the columns.\n",
    "\n"
   ]
  },
  {
   "cell_type": "code",
   "execution_count": 18,
   "id": "3d73829b-2c02-4d6b-9216-2a4bf1572a7e",
   "metadata": {},
   "outputs": [],
   "source": [
    "types = {\n",
    "    \"Type 1\": \"string\",\n",
    "    \"Type 2\": \"string\",\n",
    "    \"Total\": \"numeric\",\n",
    "    \"HP\": \"numeric\",\n",
    "    \"Attack\": \"numeric\",\n",
    "    \"Defense\": \"numeric\",\n",
    "    \"Sp. Atk\": \"numeric\",\n",
    "    \"Sp. Def\": \"numeric\",\n",
    "    \"Speed\": \"numeric\",\n",
    "    \"Generation\": \"numeric\",\n",
    "    \"Legendary\": \"boolean\",\n",
    "}"
   ]
  },
  {
   "cell_type": "markdown",
   "id": "d8bd4974-a2d1-4e24-ab6e-6fe9be559e55",
   "metadata": {},
   "source": [
    "Create the converters for the types.\n",
    "\n"
   ]
  },
  {
   "cell_type": "code",
   "execution_count": 19,
   "id": "6916e292-ebd0-4303-b082-e96140a01e5e",
   "metadata": {},
   "outputs": [],
   "source": [
    "converter = {\n",
    "    \"string\": lambda s: s,\n",
    "    \"numeric\": lambda elem: pd.to_numeric(elem, errors=\"coerce\"),\n",
    "    \"boolean\": lambda elem: elem.str.upper().map({\"TRUE\": True, \"FALSE\": False})\n",
    "}"
   ]
  },
  {
   "cell_type": "markdown",
   "id": "31a4bb78-6b92-4e9f-82fb-0c54a18d8dfc",
   "metadata": {},
   "source": [
    "Create a cleaned version of the data.\n",
    "\n"
   ]
  },
  {
   "cell_type": "code",
   "execution_count": 20,
   "id": "c72187af-3dbd-4336-8e99-2c4cbef93808",
   "metadata": {},
   "outputs": [],
   "source": [
    "cleaned_data = pd.DataFrame(data)"
   ]
  },
  {
   "cell_type": "markdown",
   "id": "a2229a30-d2d4-4ceb-b8cc-11db6e3bb9c8",
   "metadata": {},
   "source": [
    "Iterate over the types in the data.\n",
    "\n"
   ]
  },
  {
   "cell_type": "code",
   "execution_count": 21,
   "id": "1cbcd782-abc6-47f4-819e-8c7fced5b744",
   "metadata": {},
   "outputs": [],
   "source": [
    "for column, data_type in types.items():\n",
    "\n",
    "    # Set the column to the converted one\n",
    "    cleaned_data[column] = converter[data_type](data[column])"
   ]
  },
  {
   "cell_type": "markdown",
   "id": "27a2eeb7-4450-4cff-af15-8d88347d78a6",
   "metadata": {},
   "source": [
    "Drop all the rows containing NaN values.\n",
    "\n"
   ]
  },
  {
   "cell_type": "code",
   "execution_count": 22,
   "id": "19f5edd3-4aff-4fa4-9ffc-ed621f99973b",
   "metadata": {},
   "outputs": [
    {
     "name": "stdout",
     "output_type": "stream",
     "text": [
      "     #                       Name Type 1  Type 2  Total    HP  Attack  \\\n",
      "1    2                    Ivysaur  Grass  Poison    405  60.0    62.0   \n",
      "2    3                   Venusaur  Grass  Poison    525  80.0    82.0   \n",
      "3    3      VenusaurMega Venusaur  Grass  Poison    625  80.0   100.0   \n",
      "8    6  CharizardMega Charizard Y   Fire  Flying    634  78.0   104.0   \n",
      "15  12                 Butterfree    Bug  Flying    395  60.0    45.0   \n",
      "\n",
      "    Defense  Sp. Atk  Sp. Def  Speed  Generation Legendary  \n",
      "1      63.0       80     80.0   60.0           1     False  \n",
      "2      83.0      100    100.0   80.0           1     False  \n",
      "3     123.0      122    120.0   80.0           1     False  \n",
      "8      78.0      159    115.0  100.0           1     False  \n",
      "15     50.0       90     80.0   70.0           1     False  \n"
     ]
    }
   ],
   "source": [
    "cleaned_data = cleaned_data.dropna(axis=0)\n",
    "print(cleaned_data.head())"
   ]
  }
 ],
 "metadata": {
  "kernelspec": {
   "display_name": "Python 3 (ipykernel)",
   "language": "python",
   "name": "python3"
  },
  "language_info": {
   "codemirror_mode": {
    "name": "ipython",
    "version": 3
   },
   "file_extension": ".py",
   "mimetype": "text/x-python",
   "name": "python",
   "nbconvert_exporter": "python",
   "pygments_lexer": "ipython3",
   "version": "3.13.2"
  },
  "org": null
 },
 "nbformat": 4,
 "nbformat_minor": 5
}
