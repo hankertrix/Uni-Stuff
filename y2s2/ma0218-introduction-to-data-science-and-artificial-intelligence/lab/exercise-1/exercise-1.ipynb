{
 "cells": [
  {
   "cell_type": "markdown",
   "id": "3244ccf9-37ac-4637-8a85-f065380690a1",
   "metadata": {},
   "source": [
    "MA0218 Exercise 1\n",
    "=================\n",
    "\n",
    "**Author:** Hankertrix\n",
    "\n"
   ]
  },
  {
   "cell_type": "markdown",
   "id": "afcab5aa-6ee0-4ca1-a405-60245447293c",
   "metadata": {},
   "source": [
    "\n",
    "# Table of Contents\n",
    "\n",
    "\n",
    "\n",
    "\n",
    "\n"
   ]
  },
  {
   "cell_type": "markdown",
   "id": "9986ad2a-4ac8-4d7f-a376-bbfd9ac614b2",
   "metadata": {},
   "source": [
    "## Solutions\n",
    "\n"
   ]
  },
  {
   "cell_type": "markdown",
   "id": "38980a01-e410-42a2-9eed-cc66e31af8fa",
   "metadata": {},
   "source": [
    "### Problem 1\n",
    "\n"
   ]
  },
  {
   "cell_type": "markdown",
   "id": "3d402bfb-c6fc-46e9-9198-e2e3e8ab56f4",
   "metadata": {},
   "source": [
    "#### (a)\n",
    "\n"
   ]
  },
  {
   "cell_type": "code",
   "execution_count": 1,
   "id": "b71eafc9-540d-49c8-8fc3-a8c55badd87d",
   "metadata": {},
   "outputs": [],
   "source": [
    "# Import the required libaries\n",
    "import numpy as np\n",
    "import pandas as pd\n",
    "\n",
    "# Import the training data\n",
    "training_data = pd.read_csv(\"train.csv\")"
   ]
  },
  {
   "cell_type": "markdown",
   "id": "52ecbd4a-850c-40d7-892c-a89a143bf350",
   "metadata": {},
   "source": [
    "#### (b)\n",
    "\n"
   ]
  },
  {
   "cell_type": "code",
   "execution_count": 2,
   "id": "a27d2529-949b-46e6-8c26-b701e5e33871",
   "metadata": {},
   "outputs": [
    {
     "name": "stdout",
     "output_type": "stream",
     "text": [
      "number_of_observations = 1460\n",
      "number_of_variables = 81\n"
     ]
    }
   ],
   "source": [
    "# Get the shape of the data\n",
    "number_of_observations, number_of_variables = training_data.shape\n",
    "\n",
    "# Print the number of observations\n",
    "print(f\"{number_of_observations = }\")\n",
    "\n",
    "# Print the number of variables\n",
    "print(f\"{number_of_variables = }\")"
   ]
  },
  {
   "cell_type": "markdown",
   "id": "abe2b92e-d7d6-4c62-b637-cfd2c47e4d54",
   "metadata": {},
   "source": [
    "#### (c)\n",
    "\n"
   ]
  },
  {
   "cell_type": "code",
   "execution_count": 3,
   "id": "8fa0d9a5-8336-4ee4-adf1-14fba44ce71d",
   "metadata": {},
   "outputs": [
    {
     "name": "stdout",
     "output_type": "stream",
     "text": [
      "Id                 int64\n",
      "MSSubClass         int64\n",
      "MSZoning          object\n",
      "LotFrontage      float64\n",
      "LotArea            int64\n",
      "                  ...   \n",
      "MoSold             int64\n",
      "YrSold             int64\n",
      "SaleType          object\n",
      "SaleCondition     object\n",
      "SalePrice          int64\n",
      "Length: 81, dtype: object\n"
     ]
    }
   ],
   "source": [
    "# Print out the data types\n",
    "print(training_data.dtypes)"
   ]
  },
  {
   "cell_type": "markdown",
   "id": "98c17803-bdae-41f4-a8ad-65ee4de5056b",
   "metadata": {},
   "source": [
    "The data types of the variables are 64-bit integers,\n",
    "64-bit floating point numbers and objects, which are probably text.\n",
    "\n"
   ]
  },
  {
   "cell_type": "markdown",
   "id": "c722683b-a7cc-4f78-ac0d-a5f82588ffdb",
   "metadata": {},
   "source": [
    "#### (d)\n",
    "\n"
   ]
  },
  {
   "cell_type": "code",
   "execution_count": 4,
   "id": "cd0960f9-75cd-4f81-939a-82d38a5b7cc2",
   "metadata": {},
   "outputs": [
    {
     "name": "stdout",
     "output_type": "stream",
     "text": [
      "<class 'pandas.core.frame.DataFrame'>\n",
      "RangeIndex: 1460 entries, 0 to 1459\n",
      "Data columns (total 81 columns):\n",
      " #   Column         Non-Null Count  Dtype  \n",
      "---  ------         --------------  -----  \n",
      " 0   Id             1460 non-null   int64  \n",
      " 1   MSSubClass     1460 non-null   int64  \n",
      " 2   MSZoning       1460 non-null   object \n",
      " 3   LotFrontage    1201 non-null   float64\n",
      " 4   LotArea        1460 non-null   int64  \n",
      " 5   Street         1460 non-null   object \n",
      " 6   Alley          91 non-null     object \n",
      " 7   LotShape       1460 non-null   object \n",
      " 8   LandContour    1460 non-null   object \n",
      " 9   Utilities      1460 non-null   object \n",
      " 10  LotConfig      1460 non-null   object \n",
      " 11  LandSlope      1460 non-null   object \n",
      " 12  Neighborhood   1460 non-null   object \n",
      " 13  Condition1     1460 non-null   object \n",
      " 14  Condition2     1460 non-null   object \n",
      " 15  BldgType       1460 non-null   object \n",
      " 16  HouseStyle     1460 non-null   object \n",
      " 17  OverallQual    1460 non-null   int64  \n",
      " 18  OverallCond    1460 non-null   int64  \n",
      " 19  YearBuilt      1460 non-null   int64  \n",
      " 20  YearRemodAdd   1460 non-null   int64  \n",
      " 21  RoofStyle      1460 non-null   object \n",
      " 22  RoofMatl       1460 non-null   object \n",
      " 23  Exterior1st    1460 non-null   object \n",
      " 24  Exterior2nd    1460 non-null   object \n",
      " 25  MasVnrType     588 non-null    object \n",
      " 26  MasVnrArea     1452 non-null   float64\n",
      " 27  ExterQual      1460 non-null   object \n",
      " 28  ExterCond      1460 non-null   object \n",
      " 29  Foundation     1460 non-null   object \n",
      " 30  BsmtQual       1423 non-null   object \n",
      " 31  BsmtCond       1423 non-null   object \n",
      " 32  BsmtExposure   1422 non-null   object \n",
      " 33  BsmtFinType1   1423 non-null   object \n",
      " 34  BsmtFinSF1     1460 non-null   int64  \n",
      " 35  BsmtFinType2   1422 non-null   object \n",
      " 36  BsmtFinSF2     1460 non-null   int64  \n",
      " 37  BsmtUnfSF      1460 non-null   int64  \n",
      " 38  TotalBsmtSF    1460 non-null   int64  \n",
      " 39  Heating        1460 non-null   object \n",
      " 40  HeatingQC      1460 non-null   object \n",
      " 41  CentralAir     1460 non-null   object \n",
      " 42  Electrical     1459 non-null   object \n",
      " 43  1stFlrSF       1460 non-null   int64  \n",
      " 44  2ndFlrSF       1460 non-null   int64  \n",
      " 45  LowQualFinSF   1460 non-null   int64  \n",
      " 46  GrLivArea      1460 non-null   int64  \n",
      " 47  BsmtFullBath   1460 non-null   int64  \n",
      " 48  BsmtHalfBath   1460 non-null   int64  \n",
      " 49  FullBath       1460 non-null   int64  \n",
      " 50  HalfBath       1460 non-null   int64  \n",
      " 51  BedroomAbvGr   1460 non-null   int64  \n",
      " 52  KitchenAbvGr   1460 non-null   int64  \n",
      " 53  KitchenQual    1460 non-null   object \n",
      " 54  TotRmsAbvGrd   1460 non-null   int64  \n",
      " 55  Functional     1460 non-null   object \n",
      " 56  Fireplaces     1460 non-null   int64  \n",
      " 57  FireplaceQu    770 non-null    object \n",
      " 58  GarageType     1379 non-null   object \n",
      " 59  GarageYrBlt    1379 non-null   float64\n",
      " 60  GarageFinish   1379 non-null   object \n",
      " 61  GarageCars     1460 non-null   int64  \n",
      " 62  GarageArea     1460 non-null   int64  \n",
      " 63  GarageQual     1379 non-null   object \n",
      " 64  GarageCond     1379 non-null   object \n",
      " 65  PavedDrive     1460 non-null   object \n",
      " 66  WoodDeckSF     1460 non-null   int64  \n",
      " 67  OpenPorchSF    1460 non-null   int64  \n",
      " 68  EnclosedPorch  1460 non-null   int64  \n",
      " 69  3SsnPorch      1460 non-null   int64  \n",
      " 70  ScreenPorch    1460 non-null   int64  \n",
      " 71  PoolArea       1460 non-null   int64  \n",
      " 72  PoolQC         7 non-null      object \n",
      " 73  Fence          281 non-null    object \n",
      " 74  MiscFeature    54 non-null     object \n",
      " 75  MiscVal        1460 non-null   int64  \n",
      " 76  MoSold         1460 non-null   int64  \n",
      " 77  YrSold         1460 non-null   int64  \n",
      " 78  SaleType       1460 non-null   object \n",
      " 79  SaleCondition  1460 non-null   object \n",
      " 80  SalePrice      1460 non-null   int64  \n",
      "dtypes: float64(3), int64(35), object(43)\n",
      "memory usage: 924.0+ KB\n"
     ]
    }
   ],
   "source": [
    "# Call the info method\n",
    "training_data.info()"
   ]
  },
  {
   "cell_type": "markdown",
   "id": "50e131e8-4cbd-4d70-a53d-3587295acceb",
   "metadata": {},
   "source": [
    "The info method prints a table showing the columns in the data set, the\n",
    "number of non-null items, and the type of the items in the column. It\n",
    "also prints the number of columns for each data type, and the memory\n",
    "used by the data set.\n",
    "\n"
   ]
  },
  {
   "cell_type": "markdown",
   "id": "6b35f335-e709-4924-8c96-d02f3de532d9",
   "metadata": {},
   "source": [
    "#### (e)\n",
    "\n"
   ]
  },
  {
   "cell_type": "code",
   "execution_count": 5,
   "id": "cfcecda6-c6c2-42b3-9e78-7fb0293ad69b",
   "metadata": {},
   "outputs": [
    {
     "name": "stdout",
     "output_type": "stream",
     "text": [
      "                Id   MSSubClass  LotFrontage        LotArea  OverallQual  \\\n",
      "count  1460.000000  1460.000000  1201.000000    1460.000000  1460.000000   \n",
      "mean    730.500000    56.897260    70.049958   10516.828082     6.099315   \n",
      "std     421.610009    42.300571    24.284752    9981.264932     1.382997   \n",
      "min       1.000000    20.000000    21.000000    1300.000000     1.000000   \n",
      "25%     365.750000    20.000000    59.000000    7553.500000     5.000000   \n",
      "50%     730.500000    50.000000    69.000000    9478.500000     6.000000   \n",
      "75%    1095.250000    70.000000    80.000000   11601.500000     7.000000   \n",
      "max    1460.000000   190.000000   313.000000  215245.000000    10.000000   \n",
      "\n",
      "       OverallCond    YearBuilt  YearRemodAdd   MasVnrArea   BsmtFinSF1  ...  \\\n",
      "count  1460.000000  1460.000000   1460.000000  1452.000000  1460.000000  ...   \n",
      "mean      5.575342  1971.267808   1984.865753   103.685262   443.639726  ...   \n",
      "std       1.112799    30.202904     20.645407   181.066207   456.098091  ...   \n",
      "min       1.000000  1872.000000   1950.000000     0.000000     0.000000  ...   \n",
      "25%       5.000000  1954.000000   1967.000000     0.000000     0.000000  ...   \n",
      "50%       5.000000  1973.000000   1994.000000     0.000000   383.500000  ...   \n",
      "75%       6.000000  2000.000000   2004.000000   166.000000   712.250000  ...   \n",
      "max       9.000000  2010.000000   2010.000000  1600.000000  5644.000000  ...   \n",
      "\n",
      "        WoodDeckSF  OpenPorchSF  EnclosedPorch    3SsnPorch  ScreenPorch  \\\n",
      "count  1460.000000  1460.000000    1460.000000  1460.000000  1460.000000   \n",
      "mean     94.244521    46.660274      21.954110     3.409589    15.060959   \n",
      "std     125.338794    66.256028      61.119149    29.317331    55.757415   \n",
      "min       0.000000     0.000000       0.000000     0.000000     0.000000   \n",
      "25%       0.000000     0.000000       0.000000     0.000000     0.000000   \n",
      "50%       0.000000    25.000000       0.000000     0.000000     0.000000   \n",
      "75%     168.000000    68.000000       0.000000     0.000000     0.000000   \n",
      "max     857.000000   547.000000     552.000000   508.000000   480.000000   \n",
      "\n",
      "          PoolArea       MiscVal       MoSold       YrSold      SalePrice  \n",
      "count  1460.000000   1460.000000  1460.000000  1460.000000    1460.000000  \n",
      "mean      2.758904     43.489041     6.321918  2007.815753  180921.195890  \n",
      "std      40.177307    496.123024     2.703626     1.328095   79442.502883  \n",
      "min       0.000000      0.000000     1.000000  2006.000000   34900.000000  \n",
      "25%       0.000000      0.000000     5.000000  2007.000000  129975.000000  \n",
      "50%       0.000000      0.000000     6.000000  2008.000000  163000.000000  \n",
      "75%       0.000000      0.000000     8.000000  2009.000000  214000.000000  \n",
      "max     738.000000  15500.000000    12.000000  2010.000000  755000.000000  \n",
      "\n",
      "[8 rows x 38 columns]\n"
     ]
    }
   ],
   "source": [
    "# Call the describe method\n",
    "print(training_data.describe())"
   ]
  },
  {
   "cell_type": "markdown",
   "id": "898be6f8-7130-49c5-b8e9-f34c4eae51e3",
   "metadata": {},
   "source": [
    "The describe method prints a table with the headers being the column\n",
    "headers, and the rows being the number of items in the column, the mean\n",
    "of the column, the standard deviation of the column, the minimum value\n",
    "in the column, the 25th percentile value in the column, the 50th\n",
    "percentile value in the column, the 75th percentile value in the column,\n",
    "and the maximum value in the column.\n",
    "\n"
   ]
  },
  {
   "cell_type": "markdown",
   "id": "a0c67972-95b3-4f15-ace7-a0bbc96f2ff9",
   "metadata": {},
   "source": [
    "### Problem 2\n",
    "\n"
   ]
  },
  {
   "cell_type": "markdown",
   "id": "930a4525-f250-4013-8b25-c16b79dfd46f",
   "metadata": {},
   "source": [
    "#### (a)\n",
    "\n"
   ]
  },
  {
   "cell_type": "code",
   "execution_count": 6,
   "id": "ea8f7bf3-417c-4f83-9cb0-47a2c3b8163d",
   "metadata": {},
   "outputs": [],
   "source": [
    "# Import the Wikipedia page\n",
    "wikipedia_page_tables = pd.read_html(\"https://en.wikipedia.org/wiki/2024_Summer_Olympics_medal_table\")"
   ]
  },
  {
   "cell_type": "markdown",
   "id": "dfa91330-a2c0-4814-a2b4-3fb7de34e87c",
   "metadata": {},
   "source": [
    "#### (b)\n",
    "\n"
   ]
  },
  {
   "cell_type": "code",
   "execution_count": 7,
   "id": "bc74a645-c31d-4de9-88d4-eddae80548a5",
   "metadata": {},
   "outputs": [
    {
     "name": "stdout",
     "output_type": "stream",
     "text": [
      "8\n"
     ]
    }
   ],
   "source": [
    "# Print the number of tables in the Wikipedia page\n",
    "print(len(wikipedia_page_tables))"
   ]
  },
  {
   "cell_type": "markdown",
   "id": "2290b719-cd93-4935-afdd-18ad72928e0f",
   "metadata": {},
   "source": [
    "There are 8 tables in the Wikipedia page.\n",
    "\n"
   ]
  },
  {
   "cell_type": "markdown",
   "id": "51eae8b0-1ab6-488b-9cf0-3f5099ac85b8",
   "metadata": {},
   "source": [
    "#### (c)\n",
    "\n"
   ]
  },
  {
   "cell_type": "code",
   "execution_count": 8,
   "id": "2791197f-9070-479b-b8df-66e91005d1b0",
   "metadata": {},
   "outputs": [
    {
     "name": "stdout",
     "output_type": "stream",
     "text": [
      "Table 1\n",
      "                         2024 Summer Olympics medals  \\\n",
      "0  Léon Marchand (pictured) won four gold medals ...   \n",
      "1                                           Location   \n",
      "2                                         Highlights   \n",
      "3                                   Most gold medals   \n",
      "4                                  Most total medals   \n",
      "\n",
      "                       2024 Summer Olympics medals.1 Unnamed: 2  \n",
      "0  Léon Marchand (pictured) won four gold medals ...        NaN  \n",
      "1                                      Paris, France        NaN  \n",
      "2                                         Highlights        NaN  \n",
      "3                  China (40) and United States (40)        NaN  \n",
      "4                                United States (126)        NaN  \n",
      "--------------------------------------------------------------------------------\n",
      "Table 2\n",
      "          0                      1         2\n",
      "0  ← 2020 ·  Olympics medal tables  · 2028 →\n",
      "--------------------------------------------------------------------------------\n",
      "Table 3\n",
      "                                                   0\n",
      "0                                Part of a series on\n",
      "1                               2024 Summer Olympics\n",
      "2  Bid process (bid details) Development (venues,...\n",
      "3                                                vte\n",
      "--------------------------------------------------------------------------------\n",
      "Table 4\n",
      "  Rank             NOC  Gold  Silver  Bronze  Total\n",
      "0    1  United States‡    40      44      42    126\n",
      "1    2           China    40      27      24     91\n",
      "2    3           Japan    20      12      13     45\n",
      "3    4       Australia    18      19      16     53\n",
      "4    5         France*    16      26      22     64\n",
      "--------------------------------------------------------------------------------\n",
      "Table 5\n",
      "      Ruling date                      Event        Athlete (NOC)  Unnamed: 3  \\\n",
      "0  11 August 2024  Gymnastics, women's floor  Jordan Chiles (USA)         NaN   \n",
      "1  11 August 2024  Gymnastics, women's floor    Ana Bărbosu (ROM)         NaN   \n",
      "\n",
      "   Unnamed: 4 Unnamed: 5 Net change  \\\n",
      "0         NaN         −1         −1   \n",
      "1         NaN         +1         +1   \n",
      "\n",
      "                                             Comment  \n",
      "0  The Romanian Olympic and Sports Committee appe...  \n",
      "1  The Romanian Olympic and Sports Committee appe...  \n",
      "--------------------------------------------------------------------------------\n",
      "Table 6\n",
      "                      vte Olympic Games medal tables  \\\n",
      "0  Olympic medal All-time Olympic Games medal tab...   \n",
      "1                                    Summer Olympics   \n",
      "2                                    Winter Olympics   \n",
      "3                              Summer Youth Olympics   \n",
      "4                              Winter Youth Olympics   \n",
      "\n",
      "                    vte Olympic Games medal tables.1  \n",
      "0  Olympic medal All-time Olympic Games medal tab...  \n",
      "1  1896 1900 1904 1908 1912 1920 1924 1928 1932 1...  \n",
      "2  1924 1928 1932 1936 1948 1952 1956 1960 1964 1...  \n",
      "3                                2010 2014 2018 2022  \n",
      "4                                2012 2016 2020 2024  \n",
      "--------------------------------------------------------------------------------\n",
      "Table 7\n",
      "  vteEvents at the 2024 Summer Olympics (Paris, France)  \\\n",
      "0  Archery Artistic swimming Athletics Badminton ...      \n",
      "1  Chronological summary Medal table List of meda...      \n",
      "\n",
      "  vteEvents at the 2024 Summer Olympics (Paris, France).1  \n",
      "0  Archery Artistic swimming Athletics Badminton ...       \n",
      "1  Chronological summary Medal table List of meda...       \n",
      "--------------------------------------------------------------------------------\n",
      "Table 8\n",
      "     vte Summer Olympics medal table leaders by year  \\\n",
      "0  1896: United States 1900: France 1904: United ...   \n",
      "\n",
      "   vte Summer Olympics medal table leaders by year.1  \n",
      "0  1896: United States 1900: France 1904: United ...  \n",
      "--------------------------------------------------------------------------------\n"
     ]
    }
   ],
   "source": [
    "# Iterate over all the tables in the Wikipedia page\n",
    "for index, table in enumerate(wikipedia_page_tables):\n",
    "\n",
    "    # Print the table number\n",
    "    print(f\"Table {index + 1}\")\n",
    "\n",
    "    # Print the first 5 rows of the table\n",
    "    print(table.head())\n",
    "\n",
    "    # Print a separator\n",
    "    print(\"-\" * 80)"
   ]
  },
  {
   "cell_type": "markdown",
   "id": "8e615c60-2c94-4e44-981b-05e29658b665",
   "metadata": {},
   "source": [
    "The actual Summer Olympics medal table is the 4th table on the website.\n",
    "\n"
   ]
  },
  {
   "cell_type": "markdown",
   "id": "f207615c-3788-47f0-a2f0-bdf292a0ab44",
   "metadata": {},
   "source": [
    "#### (d)\n",
    "\n"
   ]
  },
  {
   "cell_type": "code",
   "execution_count": 9,
   "id": "6aa9437e-70ee-4495-b42d-3ccdde8be78e",
   "metadata": {},
   "outputs": [
    {
     "name": "stdout",
     "output_type": "stream",
     "text": [
      "                   Rank                   NOC  Gold  Silver  Bronze  Total\n",
      "0                     1        United States‡    40      44      42    126\n",
      "1                     2                 China    40      27      24     91\n",
      "2                     3                 Japan    20      12      13     45\n",
      "3                     4             Australia    18      19      16     53\n",
      "4                     5               France*    16      26      22     64\n",
      "..                  ...                   ...   ...     ...     ...    ...\n",
      "88                   84  Refugee Olympic Team     0       0       1      1\n",
      "89                   84             Singapore     0       0       1      1\n",
      "90                   84              Slovakia     0       0       1      1\n",
      "91                   84                Zambia     0       0       1      1\n",
      "92  Totals (91 entries)   Totals (91 entries)   329     330     385   1044\n",
      "\n",
      "[93 rows x 6 columns]\n"
     ]
    }
   ],
   "source": [
    "# Extract the Summer Olympics medal table\n",
    "summer_olympics_medal_table = wikipedia_page_tables[3]\n",
    "\n",
    "# Print the medal table\n",
    "print(summer_olympics_medal_table)"
   ]
  },
  {
   "cell_type": "markdown",
   "id": "5c3a2923-db24-46bf-8ef5-55930bcf9cdb",
   "metadata": {},
   "source": [
    "#### (e)\n",
    "\n"
   ]
  },
  {
   "cell_type": "code",
   "execution_count": 10,
   "id": "55e92c0a-7528-4fcd-a37d-e030cfc5d669",
   "metadata": {},
   "outputs": [
    {
     "name": "stdout",
     "output_type": "stream",
     "text": [
      "   Rank             NOC  Gold  Silver  Bronze  Total\n",
      "0     1  United States‡    40      44      42    126\n",
      "1     2           China    40      27      24     91\n",
      "2     3           Japan    20      12      13     45\n",
      "3     4       Australia    18      19      16     53\n",
      "4     5         France*    16      26      22     64\n",
      "5     6     Netherlands    15       7      12     34\n",
      "6     7   Great Britain    14      22      29     65\n",
      "7     8     South Korea    13       9      10     32\n",
      "8     9           Italy    12      13      15     40\n",
      "9    10         Germany    12      13       8     33\n",
      "10   11     New Zealand    10       7       3     20\n",
      "11   12          Canada     9       7      11     27\n",
      "12   13      Uzbekistan     8       2       3     13\n",
      "13   14         Hungary     6       7       6     19\n",
      "14   15           Spain     5       4       9     18\n",
      "15   16          Sweden     4       4       3     11\n",
      "16   17           Kenya     4       2       5     11\n",
      "17   18          Norway     4       1       3      8\n",
      "18   19         Ireland     4       0       3      7\n",
      "19   20          Brazil     3       7      10     20\n"
     ]
    }
   ],
   "source": [
    "# Get the first 20 rows from the Summer Olympics table\n",
    "top_20 = summer_olympics_medal_table[:20]\n",
    "\n",
    "# Print the first 20 rows\n",
    "print(top_20)"
   ]
  }
 ],
 "metadata": {
  "kernelspec": {
   "display_name": "Python 3 (ipykernel)",
   "language": "python",
   "name": "python3"
  },
  "language_info": {
   "codemirror_mode": {
    "name": "ipython",
    "version": 3
   },
   "file_extension": ".py",
   "mimetype": "text/x-python",
   "name": "python",
   "nbconvert_exporter": "python",
   "pygments_lexer": "ipython3",
   "version": "3.13.1"
  },
  "org": null
 },
 "nbformat": 4,
 "nbformat_minor": 5
}
